{
 "cells": [
  {
   "cell_type": "markdown",
   "metadata": {},
   "source": [
    "# MSGTRAKER"
   ]
  },
  {
   "cell_type": "code",
   "execution_count": 11,
   "metadata": {},
   "outputs": [
    {
     "name": "stderr",
     "output_type": "stream",
     "text": [
      "2019-12-17 20:38:26,143 INFO    : root         : Using LISA logging configuration:\n",
      "2019-12-17 20:38:26,144 INFO    : root         :   /home/ubuntu/Android/lisa_old/logging.conf\n"
     ]
    }
   ],
   "source": [
    "import logging\n",
    "from conf import LisaLogging\n",
    "LisaLogging.setup()"
   ]
  },
  {
   "cell_type": "code",
   "execution_count": 12,
   "metadata": {},
   "outputs": [
    {
     "name": "stdout",
     "output_type": "stream",
     "text": [
      "Populating the interactive namespace from numpy and matplotlib\n"
     ]
    },
    {
     "name": "stderr",
     "output_type": "stream",
     "text": [
      "/home/ubuntu/.local/lib/python2.7/site-packages/IPython/core/magics/pylab.py:161: UserWarning: pylab import has clobbered these variables: ['title', 'interactive']\n",
      "`%matplotlib` prevents importing * from pylab and numpy\n",
      "  \"\\n`%matplotlib` prevents importing * from pylab and numpy\"\n"
     ]
    }
   ],
   "source": [
    "%pylab inline\n",
    "\n",
    "import os\n",
    "from time import sleep\n",
    "\n",
    "# Support to access the remote target\n",
    "import devlib\n",
    "from env import TestEnv\n",
    "\n",
    "# Import support for Android devices\n",
    "from android import Screen, Workload\n",
    "\n",
    "from devlib.utils.android import adb_command\n",
    "\n",
    "# Support for trace events analysis\n",
    "from trace import Trace\n",
    "\n",
    "# Suport for FTrace events parsing and visualization\n",
    "import trappy\n",
    "import glob\n",
    "\n",
    "import numpy as np\n",
    "import seaborn as sb\n",
    "import matplotlib.pyplot as plt\n",
    "import pandas as pd\n",
    "from pandas import Series, DataFrame\n",
    "\n",
    "import ipywidgets as widgets\n",
    "from IPython.display import display\n",
    "\n",
    "from ipywidgets import interact, interactive, fixed, interact_manual\n",
    "from IPython.display import Javascript, display\n",
    "\n",
    "from android import System\n",
    "\n",
    "import subprocess\n",
    "\n",
    "from systrace_parser import systrace_parser"
   ]
  },
  {
   "cell_type": "markdown",
   "metadata": {},
   "source": [
    "## Defines"
   ]
  },
  {
   "cell_type": "code",
   "execution_count": 13,
   "metadata": {},
   "outputs": [],
   "source": [
    "data_path = '/home/ubuntu/Android/lisa_old/ipynb/performance/testingdata/MSGTRACKER/'\n",
    "raw_data_file = 'logging.txt'\n",
    "displayed_data_file = 'logging_displayed.txt'"
   ]
  },
  {
   "cell_type": "markdown",
   "metadata": {},
   "source": [
    "## Loading data"
   ]
  },
  {
   "cell_type": "code",
   "execution_count": 18,
   "metadata": {},
   "outputs": [
    {
     "name": "stdout",
     "output_type": "stream",
     "text": [
      "12-17 11:10:33.825 21297 21297 W Handler : [MSGTRACKER] com.baidu.searchbox :  110//49  159/ 1/ searchbox.feed.//4  1//1  1/ 1/ 1//2  1//0  1//0  1/ 1//67  lephony.-$$Lamb/ 1/ 1//2  searchbox.feed.//1  1//0 /96  159//0  1//0  1//0  p.-$$Lambda$Loa//1  1//0  1//0  1//0  1//0  rx.a.b.b$b//0  rx.a.b.b$b//0  1//0  1//0  1//0  113294616//0  rx.a.b.b$b/ 200168625/ rx.a.b.b$b//0  rx.a.b.b$b//0  p.-$$Lambda$Loa//4  1//0  ew.ViewRootImpl//0  ew.Choreographe/ 1//1 /11  1//1  1//0  1//0  1//5  1//0  1//0  1//0  1//0  1//0  1//0  1//0  1//0  1//0  1//0  1//0  1//0  1//0  1//0  1//0  1//0  1//0  1//0  1//0  1//0  1//0  1//1  1//1  1//0  1//0  34986781/ 1//0  1//1 /1  1//0  1//0  1//1  1//2  1//0  1//0  1//0  1//0  1//0  1//0  1//0  1//2  1//0  1//0  1//0  1//0  1//0  1//0  1//0  1//0  1//3  2//1 /131  ew.-$$Lambda$Vi//1  1//0  601//0  194481442//0  114533299//0  rx.a.b.b$b/ 104749319//0  ew.Choreographe//7  rx.a.b.b$b//0  1//0  rx.a.b.b$b//0  rx.a.b.b$b//0  rx.a.b.b$b//0  rx.a.b.b$b//0  rx.a.b.b$b//0  rx.a.b.b$b//0  rx.a.b.b$b//0  rx.a.b.b$b//0  rx.a.b.b$b//0  rx.a.b.b$b//0  rx.a.b.b$b//0  rx.a.b.b$b//0  rx.a.b.b$b//0  rx.a.b.b$b//0  rx.a.b.b$b//0  rx.a.b.b$b//0  rx.a.b.b$b//0  rx.a.b.b$b//0  rx.a.b.b$b//0  rx.a.b.b$b//0  rx.a.b.b$b//0  rx.a.b.b$b//26  rx.a.b.b$b//0  rx.a.b.b$b//1  rx.a.b.b$b//0  rx.a.b.b$b//0  rx.a.b.b$b//0  rx.a.b.b$b//0  rx.a.b.b$b//0  rx.a.b.b$b//0  rx.a.b.b$b//0  rx.a.b.b$b//0  rx.a.b.b$b//0  rx.a.b.b$b//0  rx.a.b.b$b//0  rx.a.b.b$b//0  rx.a.b.b$b//0  rx.a.b.b$b//0  rx.a.b.b$b//0  rx.a.b.b$b//0  rx.a.b.b$b//0  rx.a.b.b$b//0  rx.a.b.b$b//0  rx.a.b.b$b//0  rx.a.b.b$b//0  rx.a.b.b$b//0  6//5  17//0  p.-$$Lambda$Loa//0  rx.a.b.b$b//0  ok.datasource.A//0  ok.datasource.A//0  p.-$$Lambda$Loa//2  rx.a.b.b$b//0  ok.datasource.A//0  ok.datasource.A//0  ok.datasource.A//0  ok.datasource.A//0  ok.datasource.A//0  ok.datasource.A//0  ok.datasource.A//0  ok.datasource.A//0  searchbox.home.//0  4//0  ew.Choreographe//7  rx.a.b.b$b//1  rx.a.b.b$b//0  149//0 \n",
      "\n",
      "204\n",
      "12-17 11:10:33.788  1032  1152 I ActivityTaskManager: Displayed com.baidu.searchbox/.MainActivity: +345ms\n",
      "\n",
      "204\n"
     ]
    }
   ],
   "source": [
    "text_file = open(data_path + raw_data_file, \"r\")\n",
    "raw_data_lines = text_file.readlines()\n",
    "text_file.close()\n",
    "\n",
    "text_file = open(data_path + displayed_data_file, \"r\")\n",
    "displayed_data_lines = text_file.readlines()\n",
    "text_file.close()\n",
    "\n",
    "print raw_data_lines[0]\n",
    "print len(raw_data_lines)\n",
    "print displayed_data_lines[0]\n",
    "print len(displayed_data_lines)"
   ]
  },
  {
   "cell_type": "code",
   "execution_count": null,
   "metadata": {},
   "outputs": [],
   "source": []
  },
  {
   "cell_type": "code",
   "execution_count": null,
   "metadata": {},
   "outputs": [],
   "source": []
  }
 ],
 "metadata": {
  "kernelspec": {
   "display_name": "Python 3",
   "language": "python",
   "name": "python3"
  },
  "language_info": {
   "codemirror_mode": {
    "name": "ipython",
    "version": 3
   },
   "file_extension": ".py",
   "mimetype": "text/x-python",
   "name": "python",
   "nbconvert_exporter": "python",
   "pygments_lexer": "ipython3",
   "version": "3.7.3"
  },
  "toc": {
   "toc_cell": false,
   "toc_number_sections": true,
   "toc_threshold": 6,
   "toc_window_display": false
  }
 },
 "nbformat": 4,
 "nbformat_minor": 4
}
